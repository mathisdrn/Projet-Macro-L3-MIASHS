{
 "cells": [
  {
   "cell_type": "code",
   "execution_count": 7,
   "metadata": {},
   "outputs": [
    {
     "data": {
      "text/plain": [
       "pandas.core.frame.DataFrame"
      ]
     },
     "execution_count": 7,
     "metadata": {},
     "output_type": "execute_result"
    }
   ],
   "source": [
    "import taceconomics\n",
    "import os\n",
    "from dotenv import load_dotenv\n",
    "\n",
    "load_dotenv()\n",
    "\n",
    "taceconomics.api_key = os.getenv('TACECONOMICS_API_KEY')\n",
    "\n",
    "data = {\n",
    "    '' : 'inflation GDP deflator',\n",
    "    '' : 'inflation consumer prices',\n",
    "    'BUSCYCLE/PHASE/USA?collapse=M&mode_collapse=mean&transform=null' : 'cycle',\n",
    "    'IFS/LUR_PT_Q/USA?collapse=Q&mode_collapse=mean&transform=null' : 'unemployment rate',\n",
    "    '' : 'household consumption'\n",
    "    '' : 'assets direct investment'\n",
    "}\n"
   ]
  }
 ],
 "metadata": {
  "kernelspec": {
   "display_name": "base",
   "language": "python",
   "name": "python3"
  },
  "language_info": {
   "codemirror_mode": {
    "name": "ipython",
    "version": 3
   },
   "file_extension": ".py",
   "mimetype": "text/x-python",
   "name": "python",
   "nbconvert_exporter": "python",
   "pygments_lexer": "ipython3",
   "version": "3.11.5"
  }
 },
 "nbformat": 4,
 "nbformat_minor": 2
}
